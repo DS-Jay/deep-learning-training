{
 "cells": [
  {
   "cell_type": "markdown",
   "metadata": {},
   "source": [
    "#### Get started with TensorFlow"
   ]
  },
  {
   "cell_type": "code",
   "execution_count": 1,
   "metadata": {},
   "outputs": [
    {
     "name": "stdout",
     "output_type": "stream",
     "text": [
      "Epoch 1/5\n",
      "1875/1875 [==============================] - 3s 1ms/step - loss: 0.3032 - accuracy: 0.9116\n",
      "Epoch 2/5\n",
      "1875/1875 [==============================] - 2s 1ms/step - loss: 0.1451 - accuracy: 0.9573\n",
      "Epoch 3/5\n",
      "1875/1875 [==============================] - 2s 1ms/step - loss: 0.1101 - accuracy: 0.9676\n",
      "Epoch 4/5\n",
      "1875/1875 [==============================] - 2s 1ms/step - loss: 0.0876 - accuracy: 0.9734\n",
      "Epoch 5/5\n",
      "1875/1875 [==============================] - 3s 1ms/step - loss: 0.0771 - accuracy: 0.9757\n",
      "313/313 [==============================] - 0s 742us/step - loss: 0.0745 - accuracy: 0.9780\n"
     ]
    },
    {
     "data": {
      "text/plain": [
       "[0.07453450560569763, 0.9779999852180481]"
      ]
     },
     "execution_count": 1,
     "metadata": {},
     "output_type": "execute_result"
    }
   ],
   "source": [
    "import tensorflow as tf\n",
    "mnist = tf.keras.datasets.mnist\n",
    "\n",
    "(x_train, y_train),(x_test, y_test) = mnist.load_data()\n",
    "x_train, x_test = x_train / 255.0, x_test / 255.0\n",
    "\n",
    "model = tf.keras.models.Sequential([\n",
    "  tf.keras.layers.Flatten(input_shape=(28, 28)),\n",
    "  tf.keras.layers.Dense(128, activation='relu'),\n",
    "  tf.keras.layers.Dropout(0.2),\n",
    "  tf.keras.layers.Dense(10, activation='softmax')\n",
    "])\n",
    "\n",
    "model.compile(optimizer='adam',\n",
    "  loss='sparse_categorical_crossentropy',\n",
    "  metrics=['accuracy'])\n",
    "\n",
    "model.fit(x_train, y_train, epochs=5)\n",
    "model.evaluate(x_test, y_test)\n"
   ]
  },
  {
   "cell_type": "markdown",
   "metadata": {},
   "source": [
    "### **Epoch 1/5**\n",
    "\n",
    "**Output:**\n",
    "```\n",
    "1875/1875 [==============================] - 3s 1ms/step - loss: 0.3032 - accuracy: 0.9116\n",
    "```\n",
    "\n",
    "**Explanation:**\n",
    "- **Epoch 1/5**: This indicates that the model is currently training on the first epoch out of a total of 5 epochs. An epoch refers to one complete pass through the entire training dataset.\n",
    "- **1875/1875**: The training dataset is divided into batches, and each batch contains a subset of the training data. Here, 1875 batches are processed per epoch. The progress bar `[==============================]` visually indicates the progress through the batches.\n",
    "- **3s**: The total time taken for this epoch to complete is 3 seconds.\n",
    "- **1ms/step**: The average time taken to process each batch (step) is 1 millisecond.\n",
    "- **loss: 0.3032**: The loss value after the first epoch is 0.3032. Loss is a measure of how well the model's predictions match the actual labels. A lower loss indicates better performance.\n",
    "- **accuracy: 0.9116**: The accuracy of the model on the training data after the first epoch is 91.16%. Accuracy is the proportion of correctly predicted labels out of the total labels.\n",
    "\n",
    "### **Epoch 2/5**\n",
    "\n",
    "**Output:**\n",
    "```\n",
    "1875/1875 [==============================] - 2s 1ms/step - loss: 0.1451 - accuracy: 0.9573\n",
    "```\n",
    "\n",
    "**Explanation:**\n",
    "- The model is now on the second epoch.\n",
    "- **2s**: The time taken for the second epoch is 2 seconds, which is slightly faster than the first epoch.\n",
    "- **loss: 0.1451**: The loss has decreased to 0.1451, indicating that the model's predictions are improving.\n",
    "- **accuracy: 0.9573**: The accuracy has increased to 95.73%, showing that the model is learning and performing better on the training data.\n",
    "\n",
    "### **Epoch 3/5**\n",
    "\n",
    "**Output:**\n",
    "```\n",
    "1875/1875 [==============================] - 2s 1ms/step - loss: 0.1101 - accuracy: 0.9676\n",
    "```\n",
    "\n",
    "**Explanation:**\n",
    "- The model is on the third epoch.\n",
    "- **2s**: The time taken remains consistent at 2 seconds.\n",
    "- **loss: 0.1101**: The loss has further decreased to 0.1101.\n",
    "- **accuracy: 0.9676**: The accuracy has increased to 96.76%, indicating continued improvement in the model's performance.\n",
    "\n",
    "### **Epoch 4/5**\n",
    "\n",
    "**Output:**\n",
    "```\n",
    "1875/1875 [==============================] - 2s 1ms/step - loss: 0.0876 - accuracy: 0.9734\n",
    "```\n",
    "\n",
    "**Explanation:**\n",
    "- The model is on the fourth epoch.\n",
    "- **2s**: The training time remains consistent.\n",
    "- **loss: 0.0876**: The loss has decreased to 0.0876.\n",
    "- **accuracy: 0.9734**: The accuracy has increased to 97.34%, indicating the model is performing even better.\n",
    "\n",
    "### **Epoch 5/5**\n",
    "\n",
    "**Output:**\n",
    "```\n",
    "1875/1875 [==============================] - 3s 1ms/step - loss: 0.0771 - accuracy: 0.9757\n",
    "```\n",
    "\n",
    "**Explanation:**\n",
    "- The model is on the fifth and final epoch.\n",
    "- **3s**: The time taken for this epoch is 3 seconds.\n",
    "- **loss: 0.0771**: The loss has decreased to 0.0771.\n",
    "- **accuracy: 0.9757**: The accuracy has increased to 97.57%, indicating strong performance on the training data.\n",
    "\n",
    "### **Evaluation on Test Data**\n",
    "\n",
    "**Output:**\n",
    "```\n",
    "313/313 [==============================] - 0s 742us/step - loss: 0.0745 - accuracy: 0.9780\n",
    "[0.07453450560569763, 0.9779999852180481]\n",
    "```\n",
    "\n",
    "**Explanation:**\n",
    "- **313/313**: The test dataset is divided into 313 batches.\n",
    "- **0s**: The time taken to evaluate the test data is very quick, less than a second.\n",
    "- **742us/step**: The average time per step (batch) is 742 microseconds.\n",
    "- **loss: 0.0745**: The loss on the test data is 0.0745. This value is similar to the training loss, indicating that the model has not overfitted and generalizes well to unseen data.\n",
    "- **accuracy: 0.9780**: The accuracy on the test data is 97.80%, showing that the model performs well on new, unseen data.\n",
    "- **[0.07453450560569763, 0.9779999852180481]**: This final array contains the loss and accuracy on the test data. The first value is the loss, and the second value is the accuracy.\n",
    "\n",
    "### **Summary**\n",
    "\n",
    "The training and evaluation process shows that the model starts with a moderate accuracy and gradually improves over each epoch. By the end of the training, the model achieves high accuracy on both the training and test datasets, indicating effective learning and good generalization to new data. This process demonstrates how neural networks can be trained to perform classification tasks with high accuracy through iterative learning and evaluation."
   ]
  },
  {
   "cell_type": "markdown",
   "metadata": {},
   "source": [
    "### [Return to Main Page](../README.md)\n",
    "\n",
    "## [Pytorch Fundamental Concepts](pytorch_fundamental_concepts.md)"
   ]
  }
 ],
 "metadata": {
  "kernelspec": {
   "display_name": "python3113",
   "language": "python",
   "name": "python3"
  },
  "language_info": {
   "codemirror_mode": {
    "name": "ipython",
    "version": 3
   },
   "file_extension": ".py",
   "mimetype": "text/x-python",
   "name": "python",
   "nbconvert_exporter": "python",
   "pygments_lexer": "ipython3",
   "version": "3.11.3"
  }
 },
 "nbformat": 4,
 "nbformat_minor": 2
}
