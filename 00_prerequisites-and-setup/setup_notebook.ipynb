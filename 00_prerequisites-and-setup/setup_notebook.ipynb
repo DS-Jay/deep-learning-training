{
 "cells": [
  {
   "cell_type": "markdown",
   "metadata": {},
   "source": [
    " \n",
    " \n",
    "# Prerequisites and Setup\n",
    "\n",
    "This notebook will guide you through the environment setup for the deep learning course. Follow the instructions below to ensure that you have everything installed and configured correctly.\n",
    "\n",
    "## Step 1: Install Anaconda\n",
    "\n",
    "Download and install Anaconda from [here](https://www.anaconda.com/products/individual).\n",
    "\n",
    "## Step 2: Create a New Conda Environment\n",
    "\n",
    "Create a new environment for this course with Python 3.11:\n",
    "\n",
    "Go to your command line and run the following commands:\n",
    "\n",
    "```bash\n",
    "conda create -n deep-learning-course python=3.11 -y\n",
    "conda activate deep-learning-course\n",
    "```\n",
    "\n",
    "Install Jupyter Notebook in your new environment:\n",
    "\n",
    "```bash\n",
    "conda install -c conda-forge notebook -y\n",
    "```\n",
    "\n",
    "Install TensorFlow\n",
    "\n",
    "Any issues reference the official [TensorFlow](https://www.tensorflow.org/install) installation guide.\n",
    "    \n",
    "```bash\n",
    "pip install tensorflow\n",
    "```\n",
    "\n",
    "Install PyTorch\n",
    "\n",
    "Any issues reference the official [PyTorch](https://pytorch.org/get-started/locally/) installation guide.\n",
    "\n",
    "```bash\n",
    "pip install torch torchvision torchaudio\n",
    "```\n",
    "\n",
    "Install JAX\n",
    "\n",
    "Any issues reference the official [JAX](https://jax.readthedocs.io/en/latest/installation.html) installation guide.\n",
    "\n",
    "```bash\n",
    "pip install jax jaxlib\n",
    "```\n",
    "\n",
    "In the top right of the notebook select the kernel `deep-learning-course` to use the environment you just created."
   ]
  },
  {
   "cell_type": "code",
   "execution_count": 1,
   "metadata": {},
   "outputs": [
    {
     "name": "stdout",
     "output_type": "stream",
     "text": [
      "2.17.0\n",
      "2.4.0+cpu\n",
      "0.4.30\n"
     ]
    }
   ],
   "source": [
    "import tensorflow as tf\n",
    "print(tf.__version__)\n",
    "\n",
    "import torch\n",
    "print(torch.__version__)\n",
    "\n",
    "import jax\n",
    "print(jax.__version__)\n"
   ]
  },
  {
   "cell_type": "markdown",
   "metadata": {},
   "source": [
    "\n",
    "```bash\n"
   ]
  },
  {
   "cell_type": "markdown",
   "metadata": {},
   "source": [
    "You should see an output similar to the following:\n",
    "\n",
    "```\n",
    "2.17.0\n",
    "2.4.0+cpu\n",
    "0.4.30\n",
    "```"
   ]
  },
  {
   "cell_type": "markdown",
   "metadata": {},
   "source": [
    "### [Next: Formuals](../02_fundamental-concepts/formulas.md)"
   ]
  }
 ],
 "metadata": {
  "kernelspec": {
   "display_name": "deep-learning-course",
   "language": "python",
   "name": "python3"
  },
  "language_info": {
   "codemirror_mode": {
    "name": "ipython",
    "version": 3
   },
   "file_extension": ".py",
   "mimetype": "text/x-python",
   "name": "python",
   "nbconvert_exporter": "python",
   "pygments_lexer": "ipython3",
   "version": "3.10.14"
  }
 },
 "nbformat": 4,
 "nbformat_minor": 2
}
